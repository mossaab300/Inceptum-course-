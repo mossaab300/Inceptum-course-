{
  "nbformat": 4,
  "nbformat_minor": 0,
  "metadata": {
    "colab": {
      "provenance": []
    },
    "kernelspec": {
      "name": "python3",
      "display_name": "Python 3"
    },
    "language_info": {
      "name": "python"
    }
  },
  "cells": [
    {
      "cell_type": "code",
      "source": [
        "import pandas as pd\n",
        "import numpy as np\n",
        "import matplotlib.pyplot as plt\n",
        "import seaborn as sns\n",
        "from sklearn.preprocessing import LabelEncoder\n",
        "from sklearn.preprocessing import MinMaxScaler\n",
        "\n",
        "df=pd.read_csv(\"/healthcare-dataset-stroke-data.csv\")\n",
        "\n",
        "df.drop(['id'],axis=1,inplace=True)\n",
        "\n",
        "df.fillna(value=df['bmi'].mean(),inplace=True)\n",
        "\n",
        "lb=LabelEncoder()\n",
        "\n",
        "df['gender']=lb.fit_transform(df['gender'])\n",
        "\n",
        "df['ever_married']=lb.fit_transform(df['ever_married'])\n",
        "\n",
        "df['work_type']=lb.fit_transform(df['work_type'])\n",
        "\n",
        "df['Residence_type']=lb.fit_transform(df['Residence_type'])\n",
        "\n",
        "df['smoking_status']=lb.fit_transform(df['smoking_status'])\n",
        "\n",
        "scaler=MinMaxScaler()\n",
        "df= scaler.fit_transform(df)\n",
        "\n",
        "\n",
        "print(df_scaler_minMax.min())\n",
        "print(df_scaler_minMax.max())\n",
        "\n",
        "plt.scatter(df['age'],df['bmi'])\n",
        "\n",
        "plt.xlabel('age')\n",
        "\n",
        "plt.ylabel('bmi')\n",
        "\n",
        "sns.pairplot(df)\n",
        "plt.show()"
      ],
      "metadata": {
        "colab": {
          "base_uri": "https://localhost:8080/",
          "height": 211
        },
        "id": "aMjL5YXLLoCe",
        "outputId": "ce037861-5701-4a55-c9ff-c43c2af87802"
      },
      "execution_count": 18,
      "outputs": [
        {
          "output_type": "error",
          "ename": "NameError",
          "evalue": "name 'df_scaler_minMax' is not defined",
          "traceback": [
            "\u001b[0;31m---------------------------------------------------------------------------\u001b[0m",
            "\u001b[0;31mNameError\u001b[0m                                 Traceback (most recent call last)",
            "\u001b[0;32m<ipython-input-18-d56e960e401d>\u001b[0m in \u001b[0;36m<cell line: 0>\u001b[0;34m()\u001b[0m\n\u001b[1;32m     23\u001b[0m \u001b[0;34m\u001b[0m\u001b[0m\n\u001b[1;32m     24\u001b[0m \u001b[0;34m\u001b[0m\u001b[0m\n\u001b[0;32m---> 25\u001b[0;31m \u001b[0mprint\u001b[0m\u001b[0;34m(\u001b[0m\u001b[0mdf_scaler_minMax\u001b[0m\u001b[0;34m.\u001b[0m\u001b[0mmin\u001b[0m\u001b[0;34m(\u001b[0m\u001b[0;34m)\u001b[0m\u001b[0;34m)\u001b[0m\u001b[0;34m\u001b[0m\u001b[0;34m\u001b[0m\u001b[0m\n\u001b[0m\u001b[1;32m     26\u001b[0m \u001b[0mprint\u001b[0m\u001b[0;34m(\u001b[0m\u001b[0mdf_scaler_minMax\u001b[0m\u001b[0;34m.\u001b[0m\u001b[0mmax\u001b[0m\u001b[0;34m(\u001b[0m\u001b[0;34m)\u001b[0m\u001b[0;34m)\u001b[0m\u001b[0;34m\u001b[0m\u001b[0;34m\u001b[0m\u001b[0m\n\u001b[1;32m     27\u001b[0m \u001b[0;34m\u001b[0m\u001b[0m\n",
            "\u001b[0;31mNameError\u001b[0m: name 'df_scaler_minMax' is not defined"
          ]
        }
      ]
    },
    {
      "cell_type": "code",
      "source": [],
      "metadata": {
        "id": "PVMW1A8dO1LV"
      },
      "execution_count": null,
      "outputs": []
    }
  ]
}