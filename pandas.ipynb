{
  "nbformat": 4,
  "nbformat_minor": 0,
  "metadata": {
    "colab": {
      "provenance": []
    },
    "kernelspec": {
      "name": "python3",
      "display_name": "Python 3"
    },
    "language_info": {
      "name": "python"
    }
  },
  "cells": [
    {
      "cell_type": "code",
      "source": [
        "import pandas as pd\n",
        "import numpy as np\n",
        "\n",
        "df=pd.read_csv(r\"/data.csv\",index_col='rank')\n",
        "\n",
        "\n",
        "head=df.head()\n",
        "print(head)\n",
        "\n",
        "rows,cols=df.shape\n",
        "print(rows,cols)"
      ],
      "metadata": {
        "colab": {
          "base_uri": "https://localhost:8080/"
        },
        "id": "8Repphg_JO-t",
        "outputId": "e150a8fc-840d-45f0-ef0a-041882d31053"
      },
      "execution_count": 16,
      "outputs": [
        {
          "output_type": "stream",
          "name": "stdout",
          "text": [
            "             state state_code  2020_census  percent_of_total\n",
            "rank                                                        \n",
            "1       California         CA   39538223.0            0.1191\n",
            "2            Texas         TX   29145505.0            0.0874\n",
            "3          Florida         FL   21538187.0            0.0647\n",
            "4              NaN         NY          NaN            0.0586\n",
            "5     Pennsylvania         PA   13002700.0            0.0386\n",
            "51 4\n"
          ]
        }
      ]
    },
    {
      "cell_type": "code",
      "source": [],
      "metadata": {
        "id": "aMjL5YXLLoCe"
      },
      "execution_count": null,
      "outputs": []
    }
  ]
}