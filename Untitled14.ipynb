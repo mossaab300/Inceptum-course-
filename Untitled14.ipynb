{
  "cells": [
    {
      "cell_type": "code",
      "execution_count": 1,
      "metadata": {
        "colab": {
          "base_uri": "https://localhost:8080/"
        },
        "id": "uTBqdcn5VyG-",
        "outputId": "ccbe6d7d-1e30-43e9-925d-3ef853603e5a"
      },
      "outputs": [
        {
          "name": "stdout",
          "output_type": "stream",
          "text": [
            "abc\n"
          ]
        }
      ],
      "source": [
        "d=\"abcdefg\"\n",
        "print(d[:3])"
      ]
    },
    {
      "cell_type": "code",
      "execution_count": 2,
      "metadata": {
        "colab": {
          "base_uri": "https://localhost:8080/"
        },
        "id": "ZVnDNnTXIHL3",
        "outputId": "747f602c-2d73-4348-fc2d-84d4ee6adcbe"
      },
      "outputs": [
        {
          "name": "stdout",
          "output_type": "stream",
          "text": [
            "correct\n"
          ]
        }
      ],
      "source": [
        "e =\"clocrkr1e1c1t\"\n",
        "\n",
        "print(e[::2])"
      ]
    },
    {
      "cell_type": "code",
      "execution_count": 4,
      "metadata": {
        "colab": {
          "base_uri": "https://localhost:8080/"
        },
        "id": "55c6VS8vIj5m",
        "outputId": "eb2d125e-afed-4d0a-e8ae-8f53b05adbe5"
      },
      "outputs": [
        {
          "name": "stdout",
          "output_type": "stream",
          "text": [
            "I AM RIGHT\n"
          ]
        }
      ],
      "source": [
        "f = \"i am right\"\n",
        "print(f.upper())"
      ]
    },
    {
      "cell_type": "code",
      "execution_count": 5,
      "metadata": {
        "colab": {
          "base_uri": "https://localhost:8080/"
        },
        "id": "Sn6v9aR4yxuC",
        "outputId": "f7f9988e-1999-4fcc-bb77-b205e487e471"
      },
      "outputs": [
        {
          "data": {
            "text/plain": [
              "4.0"
            ]
          },
          "execution_count": 5,
          "metadata": {},
          "output_type": "execute_result"
        }
      ],
      "source": [
        "def divide(num1: float, num2: float):\n",
        "    return(num1/num2)\n",
        "x=40\n",
        "y=10\n",
        "divide(x,y)"
      ]
    },
    {
      "cell_type": "code",
      "execution_count": 6,
      "metadata": {
        "colab": {
          "base_uri": "https://localhost:8080/"
        },
        "id": "hLUIaN5_zQeg",
        "outputId": "aa7f75ff-bfeb-46ff-b0db-e1f056640844"
      },
      "outputs": [
        {
          "data": {
            "text/plain": [
              "5"
            ]
          },
          "execution_count": 6,
          "metadata": {},
          "output_type": "execute_result"
        }
      ],
      "source": [
        "def con (x,y):\n",
        "    return x+y\n",
        "\n",
        "\n",
        "con(2,3)"
      ]
    },
    {
      "cell_type": "code",
      "execution_count": 3,
      "metadata": {
        "colab": {
          "base_uri": "https://localhost:8080/"
        },
        "id": "CuluUMJy0b0e",
        "outputId": "fed1eddd-0dbd-4c6e-b953-c928fe03f619"
      },
      "outputs": [
        {
          "name": "stdout",
          "output_type": "stream",
          "text": [
            "the count of it = 4\n"
          ]
        }
      ],
      "source": [
        "def freq(str,target ):\n",
        "  word=[]\n",
        "  words=str.split()\n",
        "  for word in words:\n",
        "    return words.count(target)\n",
        "\n",
        "str=\"Mary had a little lamb little lamb, little lamb Mary had a little lamb.Its fleece was white as snow And everywhere that Mary went Mary went, Mary went Everywhere that Mary went The lamb was sure to go\"\n",
        "word=\"little\"\n",
        "print(\"the count of it =\",freq(str,word))"
      ]
    },
    {
      "cell_type": "code",
      "execution_count": 9,
      "metadata": {
        "colab": {
          "base_uri": "https://localhost:8080/"
        },
        "id": "IGJYEJgdjF-w",
        "outputId": "8ad5dede-e579-43b7-9651-a5ad1b9cbc02"
      },
      "outputs": [
        {
          "data": {
            "text/plain": [
              "14"
            ]
          },
          "execution_count": 9,
          "metadata": {},
          "output_type": "execute_result"
        }
      ],
      "source": [
        "def outer(a,b):\n",
        "    def inner(a,b):\n",
        "        return a+b\n",
        "    add = inner(a,b)\n",
        "    return add+5\n",
        "outer(5,4)"
      ]
    },
    {
      "cell_type": "code",
      "execution_count": 10,
      "metadata": {
        "colab": {
          "base_uri": "https://localhost:8080/"
        },
        "id": "ioxYgqcZjF9t",
        "outputId": "3623dd55-7586-412c-8ef4-eae3ccc77dd8"
      },
      "outputs": [
        {
          "data": {
            "text/plain": [
              "55"
            ]
          },
          "execution_count": 10,
          "metadata": {},
          "output_type": "execute_result"
        }
      ],
      "source": [
        "def sum(x):\n",
        "  if x==0:\n",
        "    return 0\n",
        "  else:\n",
        "    return x + sum(x-1)\n",
        "sum(10)"
      ]
    },
    {
      "cell_type": "code",
      "execution_count": 8,
      "metadata": {
        "colab": {
          "base_uri": "https://localhost:8080/"
        },
        "id": "oWtctGQ8Cm-Q",
        "outputId": "9dfc07c4-e58c-461e-ec1c-343e92b68d62"
      },
      "outputs": [
        {
          "name": "stdout",
          "output_type": "stream",
          "text": [
            "enter the value of the length : 5\n",
            "enter the value of the width : 5\n",
            "the area is 25 and the perimeter is 50\n"
          ]
        }
      ],
      "source": [
        "length=int(input(\"enter the value of the length : \"))\n",
        "width=int(input(\"enter the value of the width : \"))\n",
        "\n",
        "area=length*width\n",
        "perimeter = 2 * (length*width)\n",
        "\n",
        "print(f\"the area is {area} and the perimeter is {perimeter}\")"
      ]
    },
    {
      "cell_type": "code",
      "execution_count": 9,
      "metadata": {
        "colab": {
          "base_uri": "https://localhost:8080/"
        },
        "id": "ZGvpStiJDXMD",
        "outputId": "492462d7-333f-4f4a-a315-0fbe12a62f4a"
      },
      "outputs": [
        {
          "name": "stdout",
          "output_type": "stream",
          "text": [
            "Enter the first num:5\n",
            "Enter the second num:6\n",
            "Enter the third num:7\n",
            "Maximum : 7\n"
          ]
        }
      ],
      "source": [
        "num1=int(input(\"Enter the first num:\"))\n",
        "num2=int(input(\"Enter the second num:\"))\n",
        "num3=int(input(\"Enter the third num:\"))\n",
        "\n",
        "if (num1>num2 and num1>num3):\n",
        "    max=num1\n",
        "elif (num2>num1 and num2>num3):\n",
        "    max=num2\n",
        "else:\n",
        "    max=num3\n",
        "print (\"Maximum :\",max)"
      ]
    },
    {
      "cell_type": "code",
      "execution_count": 10,
      "metadata": {
        "colab": {
          "base_uri": "https://localhost:8080/"
        },
        "id": "bNH-CpVbDj06",
        "outputId": "245d4d84-c33e-4c48-e15d-81f035deaa4b"
      },
      "outputs": [
        {
          "name": "stdout",
          "output_type": "stream",
          "text": [
            "44\n"
          ]
        }
      ],
      "source": [
        "num=[1,8,-9,30,-70,5,0]\n",
        "sum=0\n",
        "for i in num:\n",
        "  if i>0:\n",
        "    sum+=i\n",
        "\n",
        "print(sum)"
      ]
    },
    {
      "cell_type": "code",
      "execution_count": null,
      "metadata": {
        "id": "bWutjSmEEx8l"
      },
      "outputs": [],
      "source": [
        "num1=int(input(\"Enter the first num :\"))\n",
        "op=str(input(\"Enter the operation you want to use (+,-,*,/) :\"))\n",
        "num2=int(input(\"Enter the second num :\"))\n",
        "if op == \"+\":\n",
        "    print(f\"{num1} {op} {num2} =\",num1+num2)\n",
        "elif op==\"-\":\n",
        "    print(f\"{num1} {op} {num2} =\",num1-num2)\n",
        "elif op==\"*\":\n",
        "    print(f\"{num1} {op} {num2} =\",num1*num2)\n",
        "elif op==\"/\":\n",
        "    print(f\"{num1} {op} {num2} =\",num1/num2)"
      ]
    }
  ],
  "metadata": {
    "colab": {
      "provenance": []
    },
    "kernelspec": {
      "display_name": "Python 3",
      "name": "python3"
    },
    "language_info": {
      "name": "python"
    }
  },
  "nbformat": 4,
  "nbformat_minor": 0
}
