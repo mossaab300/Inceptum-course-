{
  "nbformat": 4,
  "nbformat_minor": 0,
  "metadata": {
    "colab": {
      "provenance": []
    },
    "kernelspec": {
      "name": "python3",
      "display_name": "Python 3"
    },
    "language_info": {
      "name": "python"
    }
  },
  "cells": [
    {
      "cell_type": "code",
      "execution_count": 1,
      "metadata": {
        "colab": {
          "base_uri": "https://localhost:8080/"
        },
        "id": "yX6fo38kDVCt",
        "outputId": "e2bbef4d-3a3f-4c5c-dc97-c1b3213e535f"
      },
      "outputs": [
        {
          "output_type": "stream",
          "name": "stdout",
          "text": [
            "[0. 0. 0. 0. 0. 0. 0. 0. 0. 0.]\n",
            "[1. 1. 1. 1. 1. 1. 1. 1. 1. 1.]\n",
            "[5 5 5 5 5 5 5 5 5 5]\n",
            "[10 11 12 13 14 15 16 17 18 19 20 21 22 23 24 25 26 27 28 29 30 31 32 33\n",
            " 34 35 36 37 38 39 40 41 42 43 44 45 46 47 48 49 50]\n",
            "[10 12 14 16 18 20 22 24 26 28 30 32 34 36 38 40 42 44 46 48 50]\n",
            "[[0 1 2]\n",
            " [3 4 5]\n",
            " [6 7 8]]\n",
            "[[1. 0. 0.]\n",
            " [0. 1. 0.]\n",
            " [0. 0. 1.]]\n",
            "0.16745224954388205\n",
            "[0.35778107 0.03839199 0.23534612 0.81422106 0.30320282 0.23203248\n",
            " 0.3759533  0.61857992 0.2335445  0.08958382 0.0670033  0.14656685\n",
            " 0.70949322 0.1331058  0.0795223  0.57042475 0.94655412 0.24208629\n",
            " 0.55161732 0.36536867 0.0818857  0.49513387 0.53146435 0.2076358\n",
            " 0.8494868 ]\n",
            "[[ 1  2  3  4  5]\n",
            " [ 6  7  8  9 10]\n",
            " [11 12 13 14 15]\n",
            " [16 17 18 19 20]\n",
            " [21 22 23 24 25]]\n",
            "325\n",
            "7.211102550927978\n"
          ]
        }
      ],
      "source": [
        "import numpy as np\n",
        "\n",
        "zero=np.zero(10)\n",
        "print(zero)\n",
        "\n",
        "\n",
        "onesss=np.onesss(10)\n",
        "print(onesss)\n",
        "\n",
        "\n",
        "fiv=np.full(10,5)\n",
        "print(fiv)\n",
        "\n",
        "\n",
        "arr1=np.arange(10,51)\n",
        "print(arr1)\n",
        "\n",
        "\n",
        "array2=np.arange(10,51,2)\n",
        "print(array2)\n",
        "\n",
        "\n",
        "array3=np.arange(0,9).reshape(3,3)\n",
        "print(array3)\n",
        "\n",
        "\n",
        "array4=np.eye(3,3)\n",
        "print(array4)\n",
        "\n",
        "\n",
        "ran_num=np.random.rand()\n",
        "print(ran_num)\n",
        "\n",
        "\n",
        "ran_nums=np.random.rand(25)\n",
        "print(ran_nums)\n",
        "\n",
        "\n",
        "mat=np.arange(1,26).reshape(5,5)\n",
        "print(mat)\n",
        "print(mat.sum())\n",
        "print(mat.std())"
      ]
    }
  ]
}